{
 "cells": [
  {
   "cell_type": "code",
   "execution_count": 1,
   "metadata": {},
   "outputs": [],
   "source": [
    "from random import randrange"
   ]
  },
  {
   "cell_type": "code",
   "execution_count": 3,
   "metadata": {},
   "outputs": [
    {
     "name": "stdin",
     "output_type": "stream",
     "text": [
      " 120\n"
     ]
    },
    {
     "name": "stdout",
     "output_type": "stream",
     "text": [
      "Bigger one\n"
     ]
    },
    {
     "name": "stdin",
     "output_type": "stream",
     "text": [
      " 550\n"
     ]
    },
    {
     "name": "stdout",
     "output_type": "stream",
     "text": [
      "Bigger one\n"
     ]
    },
    {
     "name": "stdin",
     "output_type": "stream",
     "text": [
      " 700\n"
     ]
    },
    {
     "name": "stdout",
     "output_type": "stream",
     "text": [
      "Smaller one\n"
     ]
    },
    {
     "name": "stdin",
     "output_type": "stream",
     "text": [
      " 650\n"
     ]
    },
    {
     "name": "stdout",
     "output_type": "stream",
     "text": [
      "Bigger one\n"
     ]
    },
    {
     "name": "stdin",
     "output_type": "stream",
     "text": [
      " 670\n"
     ]
    },
    {
     "name": "stdout",
     "output_type": "stream",
     "text": [
      "Smaller one\n"
     ]
    },
    {
     "name": "stdin",
     "output_type": "stream",
     "text": [
      " 655\n"
     ]
    },
    {
     "name": "stdout",
     "output_type": "stream",
     "text": [
      "Bigger one\n"
     ]
    },
    {
     "name": "stdin",
     "output_type": "stream",
     "text": [
      " 660\n"
     ]
    },
    {
     "name": "stdout",
     "output_type": "stream",
     "text": [
      "Bigger one\n"
     ]
    },
    {
     "name": "stdin",
     "output_type": "stream",
     "text": [
      " 665\n"
     ]
    },
    {
     "name": "stdout",
     "output_type": "stream",
     "text": [
      "Smaller one\n"
     ]
    },
    {
     "name": "stdin",
     "output_type": "stream",
     "text": [
      " 663\n"
     ]
    },
    {
     "name": "stdout",
     "output_type": "stream",
     "text": [
      "Smaller one\n"
     ]
    },
    {
     "name": "stdin",
     "output_type": "stream",
     "text": [
      " 662\n"
     ]
    },
    {
     "name": "stdout",
     "output_type": "stream",
     "text": [
      "Smaller one\n"
     ]
    },
    {
     "name": "stdin",
     "output_type": "stream",
     "text": [
      " 661\n"
     ]
    },
    {
     "name": "stdout",
     "output_type": "stream",
     "text": [
      "You are winner!\n"
     ]
    }
   ],
   "source": [
    "x = randrange(1000)\n",
    "while True:\n",
    "    y = int(input())\n",
    "    if x == y:\n",
    "        print(\"You are winner!\")\n",
    "        break\n",
    "    print(\"Smaller one\" if (x < y) else \"Bigger one\")"
   ]
  },
  {
   "cell_type": "code",
   "execution_count": null,
   "metadata": {},
   "outputs": [],
   "source": []
  },
  {
   "cell_type": "code",
   "execution_count": null,
   "metadata": {},
   "outputs": [],
   "source": []
  }
 ],
 "metadata": {
  "kernelspec": {
   "display_name": "Python 3",
   "language": "python",
   "name": "python3"
  },
  "language_info": {
   "codemirror_mode": {
    "name": "ipython",
    "version": 3
   },
   "file_extension": ".py",
   "mimetype": "text/x-python",
   "name": "python",
   "nbconvert_exporter": "python",
   "pygments_lexer": "ipython3",
   "version": "3.8.5"
  }
 },
 "nbformat": 4,
 "nbformat_minor": 4
}
