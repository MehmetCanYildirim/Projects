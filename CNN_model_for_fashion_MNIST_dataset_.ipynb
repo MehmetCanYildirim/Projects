{
  "nbformat": 4,
  "nbformat_minor": 0,
  "metadata": {
    "colab": {
      "name": "CNN_model_for_fashion_MNIST_dataset.",
      "provenance": [],
      "collapsed_sections": [],
      "authorship_tag": "ABX9TyOji22H1T31njmQc71a2egp",
      "include_colab_link": true
    },
    "kernelspec": {
      "name": "python3",
      "display_name": "Python 3"
    },
    "language_info": {
      "name": "python"
    }
  },
  "cells": [
    {
      "cell_type": "markdown",
      "metadata": {
        "id": "view-in-github",
        "colab_type": "text"
      },
      "source": [
        "<a href=\"https://colab.research.google.com/github/MehmetCanYildirim/Projects/blob/main/CNN_model_for_fashion_MNIST_dataset_.ipynb\" target=\"_parent\"><img src=\"https://colab.research.google.com/assets/colab-badge.svg\" alt=\"Open In Colab\"/></a>"
      ]
    },
    {
      "cell_type": "code",
      "metadata": {
        "id": "qkOe6f8MHzb6"
      },
      "source": [
        "import tensorflow as tf\n",
        "import numpy as np\n",
        "import pandas as pd\n",
        "import matplotlib.pyplot as plt\n",
        "\n",
        "from keras.models import Sequential\n",
        "from keras.layers import Flatten, Dense, MaxPooling2D, Conv2D, Activation\n",
        "from keras.datasets import fashion_mnist\n"
      ],
      "execution_count": 1,
      "outputs": []
    },
    {
      "cell_type": "code",
      "metadata": {
        "id": "pm3fWU0GJDRD"
      },
      "source": [
        "(X_train, y_train), (X_test, y_test) = fashion_mnist.load_data()"
      ],
      "execution_count": 2,
      "outputs": []
    },
    {
      "cell_type": "code",
      "metadata": {
        "id": "2M6mNs7-JKjk"
      },
      "source": [
        "X_train, X_test = X_train/ 255.0, X_test/ 255.0"
      ],
      "execution_count": 3,
      "outputs": []
    },
    {
      "cell_type": "code",
      "metadata": {
        "colab": {
          "base_uri": "https://localhost:8080/",
          "height": 269
        },
        "id": "VPxDOOkJJTfQ",
        "outputId": "d7df5344-9629-4608-8c98-12bd016467ef"
      },
      "source": [
        "plt.figure()\n",
        "plt.imshow(X_train[3])\n",
        "plt.colorbar()\n",
        "plt.grid(False)\n",
        "plt.show()"
      ],
      "execution_count": 4,
      "outputs": [
        {
          "output_type": "display_data",
          "data": {
            "image/png": "[encoded data removed]",
            "text/plain": [
              "<Figure size 432x288 with 2 Axes>"
            ]
          },
          "metadata": {
            "tags": [],
            "needs_background": "light"
          }
        }
      ]
    },
    {
      "cell_type": "code",
      "metadata": {
        "colab": {
          "base_uri": "https://localhost:8080/"
        },
        "id": "tZyG0DyyJ95c",
        "outputId": "ac1828f0-93be-4676-f8f6-39a9873ebe4c"
      },
      "source": [
        "X_train = X_train.reshape(60000,28,28,1)\n",
        "X_test = X_test.reshape(10000,28,28,1)\n",
        "X_train.shape, X_test.shape"
      ],
      "execution_count": 5,
      "outputs": [
        {
          "output_type": "execute_result",
          "data": {
            "text/plain": [
              "((60000, 28, 28, 1), (10000, 28, 28, 1))"
            ]
          },
          "metadata": {
            "tags": []
          },
          "execution_count": 5
        }
      ]
    },
    {
      "cell_type": "code",
      "metadata": {
        "id": "F59unRTxJzK2"
      },
      "source": [
        "model = Sequential()\n",
        "model.add(Conv2D(filters=64,kernel_size=(3,3),input_shape=(28,28,1),activation='relu'))\n",
        "model.add(MaxPooling2D(pool_size=(2,2)))\n",
        "\n",
        "model.add(Conv2D(filters=32,kernel_size=(3,3),activation='relu'))\n",
        "model.add(MaxPooling2D(pool_size=(2,2)))\n",
        "\n",
        "model.add(Conv2D(filters=16,kernel_size=(3,3),activation='relu'))\n",
        "model.add(MaxPooling2D(pool_size=(2,2)))\n",
        "\n",
        "model.add(Flatten())\n",
        "model.add(Dense(64))\n",
        "model.add(Dense(10,activation='softmax'))\n"
      ],
      "execution_count": 6,
      "outputs": []
    },
    {
      "cell_type": "code",
      "metadata": {
        "id": "k0vllUQZJTaJ",
        "colab": {
          "base_uri": "https://localhost:8080/"
        },
        "outputId": "8d465d98-51c4-4b7c-831f-75e57107544b"
      },
      "source": [
        "model.summary()"
      ],
      "execution_count": 7,
      "outputs": [
        {
          "output_type": "stream",
          "text": [
            "Model: \"sequential\"\n",
            "_________________________________________________________________\n",
            "Layer (type)                 Output Shape              Param #   \n",
            "=================================================================\n",
            "conv2d (Conv2D)              (None, 26, 26, 64)        640       \n",
            "_________________________________________________________________\n",
            "max_pooling2d (MaxPooling2D) (None, 13, 13, 64)        0         \n",
            "_________________________________________________________________\n",
            "conv2d_1 (Conv2D)            (None, 11, 11, 32)        18464     \n",
            "_________________________________________________________________\n",
            "max_pooling2d_1 (MaxPooling2 (None, 5, 5, 32)          0         \n",
            "_________________________________________________________________\n",
            "conv2d_2 (Conv2D)            (None, 3, 3, 16)          4624      \n",
            "_________________________________________________________________\n",
            "max_pooling2d_2 (MaxPooling2 (None, 1, 1, 16)          0         \n",
            "_________________________________________________________________\n",
            "flatten (Flatten)            (None, 16)                0         \n",
            "_________________________________________________________________\n",
            "dense (Dense)                (None, 64)                1088      \n",
            "_________________________________________________________________\n",
            "dense_1 (Dense)              (None, 10)                650       \n",
            "=================================================================\n",
            "Total params: 25,466\n",
            "Trainable params: 25,466\n",
            "Non-trainable params: 0\n",
            "_________________________________________________________________\n"
          ],
          "name": "stdout"
        }
      ]
    },
    {
      "cell_type": "code",
      "metadata": {
        "id": "hduHeNnSJTXp"
      },
      "source": [
        "model.compile(optimizer='adam', loss=tf.keras.losses.SparseCategoricalCrossentropy(from_logits=True), metrics=['accuracy'])"
      ],
      "execution_count": 8,
      "outputs": []
    },
    {
      "cell_type": "code",
      "metadata": {
        "id": "GPM-cl5rJTQs",
        "colab": {
          "base_uri": "https://localhost:8080/"
        },
        "outputId": "9fdc6c71-7687-45dc-95cb-b28d5d3ab527"
      },
      "source": [
        "history = model.fit(x = X_train, y = y_train,batch_size=64,epochs=10,validation_data=(X_test,y_test))"
      ],
      "execution_count": 9,
      "outputs": [
        {
          "output_type": "stream",
          "text": [
            "Epoch 1/10\n",
            "938/938 [==============================] - 68s 72ms/step - loss: 0.9560 - accuracy: 0.6445 - val_loss: 0.5349 - val_accuracy: 0.8112\n",
            "Epoch 2/10\n",
            "938/938 [==============================] - 67s 71ms/step - loss: 0.5075 - accuracy: 0.8148 - val_loss: 0.4704 - val_accuracy: 0.8353\n",
            "Epoch 3/10\n",
            "938/938 [==============================] - 67s 71ms/step - loss: 0.4343 - accuracy: 0.8444 - val_loss: 0.4206 - val_accuracy: 0.8507\n",
            "Epoch 4/10\n",
            "938/938 [==============================] - 67s 71ms/step - loss: 0.3942 - accuracy: 0.8566 - val_loss: 0.3890 - val_accuracy: 0.8638\n",
            "Epoch 5/10\n",
            "938/938 [==============================] - 67s 72ms/step - loss: 0.3691 - accuracy: 0.8667 - val_loss: 0.3824 - val_accuracy: 0.8649\n",
            "Epoch 6/10\n",
            "938/938 [==============================] - 67s 72ms/step - loss: 0.3489 - accuracy: 0.8732 - val_loss: 0.3970 - val_accuracy: 0.8604\n",
            "Epoch 7/10\n",
            "938/938 [==============================] - 67s 71ms/step - loss: 0.3308 - accuracy: 0.8790 - val_loss: 0.3861 - val_accuracy: 0.8633\n",
            "Epoch 8/10\n",
            "938/938 [==============================] - 67s 71ms/step - loss: 0.3145 - accuracy: 0.8856 - val_loss: 0.3632 - val_accuracy: 0.8688\n",
            "Epoch 9/10\n",
            "938/938 [==============================] - 67s 71ms/step - loss: 0.3071 - accuracy: 0.8874 - val_loss: 0.3523 - val_accuracy: 0.8741\n",
            "Epoch 10/10\n",
            "938/938 [==============================] - 66s 70ms/step - loss: 0.2908 - accuracy: 0.8941 - val_loss: 0.3477 - val_accuracy: 0.8793\n"
          ],
          "name": "stdout"
        }
      ]
    },
    {
      "cell_type": "code",
      "metadata": {
        "colab": {
          "base_uri": "https://localhost:8080/"
        },
        "id": "Ss37_AzDqcUi",
        "outputId": "bf34482a-3efd-4818-cf24-ee28c1e995e7"
      },
      "source": [
        "results = model.evaluate(X_test, y_test, batch_size=100)"
      ],
      "execution_count": 11,
      "outputs": [
        {
          "output_type": "stream",
          "text": [
            "100/100 [==============================] - 3s 26ms/step - loss: 0.3477 - accuracy: 0.8793\n"
          ],
          "name": "stdout"
        }
      ]
    },
    {
      "cell_type": "code",
      "metadata": {
        "colab": {
          "base_uri": "https://localhost:8080/"
        },
        "id": "JQfuk4-wqcM2",
        "outputId": "cf4fa99b-4946-41e0-ae95-bb1bcd53fa79"
      },
      "source": [
        "prediction = model.predict(np.array([X_test[0]]))\n",
        "np.argmax(prediction)"
      ],
      "execution_count": 28,
      "outputs": [
        {
          "output_type": "execute_result",
          "data": {
            "text/plain": [
              "9"
            ]
          },
          "metadata": {
            "tags": []
          },
          "execution_count": 28
        }
      ]
    },
    {
      "cell_type": "code",
      "metadata": {
        "colab": {
          "base_uri": "https://localhost:8080/",
          "height": 282
        },
        "id": "TpI_3Hcpu9tV",
        "outputId": "c5f63b9e-53fb-4edd-8178-ad164de37062"
      },
      "source": [
        "plt.imshow(X_test[0].reshape(28,28))\n"
      ],
      "execution_count": 29,
      "outputs": [
        {
          "output_type": "execute_result",
          "data": {
            "text/plain": [
              "<matplotlib.image.AxesImage at 0x7f33566519d0>"
            ]
          },
          "metadata": {
            "tags": []
          },
          "execution_count": 29
        },
        {
          "output_type": "display_data",
          "data": {
            "image/png": "[encoded data removed]",
            "text/plain": [
              "<Figure size 432x288 with 1 Axes>"
            ]
          },
          "metadata": {
            "tags": [],
            "needs_background": "light"
          }
        }
      ]
    }
  ]
}