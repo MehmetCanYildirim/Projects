{
  "nbformat": 4,
  "nbformat_minor": 0,
  "metadata": {
    "colab": {
      "name": "Simple ANN with MNIST datasets",
      "provenance": [],
      "collapsed_sections": [],
      "authorship_tag": "ABX9TyOI4mS/r26V+QBFsn924Qgs",
      "include_colab_link": true
    },
    "kernelspec": {
      "name": "python3",
      "display_name": "Python 3"
    },
    "language_info": {
      "name": "python"
    }
  },
  "cells": [
    {
      "cell_type": "markdown",
      "metadata": {
        "id": "view-in-github",
        "colab_type": "text"
      },
      "source": [
        "<a href=\"https://colab.research.google.com/github/MehmetCanYildirim/Projects/blob/main/Simple_ANN_with_MNIST_datasets.ipynb\" target=\"_parent\"><img src=\"https://colab.research.google.com/assets/colab-badge.svg\" alt=\"Open In Colab\"/></a>"
      ]
    },
    {
      "cell_type": "code",
      "metadata": {
        "id": "YwMQKIDQQeoh"
      },
      "source": [
        "import tensorflow as tf\n",
        "import numpy as np\n",
        "import matplotlib.pyplot as plt\n",
        "from keras.layers import Dense, Flatten\n",
        "from keras.models import Sequential\n",
        "from keras.utils import to_categorical\n",
        "from keras.datasets import mnist\n"
      ],
      "execution_count": null,
      "outputs": []
    },
    {
      "cell_type": "code",
      "metadata": {
        "id": "hcAsHdhlQdW5"
      },
      "source": [
        "(X_train, y_train), (X_test, y_test) = mnist.load_data()"
      ],
      "execution_count": null,
      "outputs": []
    },
    {
      "cell_type": "code",
      "metadata": {
        "colab": {
          "base_uri": "https://localhost:8080/"
        },
        "id": "prfhXhpYQ626",
        "outputId": "4a86efa9-bb2c-437a-9be6-4da9d35d0eba"
      },
      "source": [
        "X_train.shape, y_train.shape, X_test.shape, y_test.shape"
      ],
      "execution_count": null,
      "outputs": [
        {
          "output_type": "execute_result",
          "data": {
            "text/plain": [
              "((60000, 28, 28), (60000,), (10000, 28, 28), (10000,))"
            ]
          },
          "metadata": {
            "tags": []
          },
          "execution_count": 3
        }
      ]
    },
    {
      "cell_type": "code",
      "metadata": {
        "colab": {
          "base_uri": "https://localhost:8080/",
          "height": 265
        },
        "id": "hFKBdO79RZp3",
        "outputId": "3c9232ab-a51e-41bb-cbaa-f8834aa67356"
      },
      "source": [
        "plt.imshow(np.array(X_train[36]))\n",
        "plt.show()"
      ],
      "execution_count": null,
      "outputs": [
        {
          "output_type": "display_data",
          "data": {
            "image/png": "[encoded data removed]",
            "text/plain": [
              "<Figure size 432x288 with 1 Axes>"
            ]
          },
          "metadata": {
            "tags": [],
            "needs_background": "light"
          }
        }
      ]
    },
    {
      "cell_type": "code",
      "metadata": {
        "id": "oNbOMJHsSgpD"
      },
      "source": [
        "a = []\n",
        "b = []"
      ],
      "execution_count": null,
      "outputs": []
    },
    {
      "cell_type": "code",
      "metadata": {
        "id": "fJPgSJpBS4Na"
      },
      "source": [
        "for j in range(len(y_train)):\n",
        "  a.append(to_categorical(y_train[j],num_classes=10))\n",
        "y_train = np.array(a)\n",
        "\n",
        "for i in range(len(y_test)):\n",
        "  b.append(to_categorical(y_test[i],num_classes=10))\n",
        "y_test = np.array(b)"
      ],
      "execution_count": null,
      "outputs": []
    },
    {
      "cell_type": "code",
      "metadata": {
        "colab": {
          "base_uri": "https://localhost:8080/"
        },
        "id": "e9HFXJKMVRFB",
        "outputId": "4e9baca4-78ef-4e9b-aba1-7680e6f14a7a"
      },
      "source": [
        "print(y_test.shape)\n",
        "print(y_train.shape)"
      ],
      "execution_count": null,
      "outputs": [
        {
          "output_type": "stream",
          "text": [
            "(10000, 10)\n",
            "(60000, 10)\n"
          ],
          "name": "stdout"
        }
      ]
    },
    {
      "cell_type": "code",
      "metadata": {
        "id": "PhyiSgcPYxtR"
      },
      "source": [
        "model = Sequential()\n",
        "model.add(Flatten(input_shape=(28,28)))\n",
        "model.add(Dense(64, activation='sigmoid'))\n",
        "model.add(Dense(32, activation='sigmoid'))\n",
        "model.add(Dense(16, activation='sigmoid'))\n",
        "model.add(Dense(10, activation='sigmoid'))"
      ],
      "execution_count": null,
      "outputs": []
    },
    {
      "cell_type": "code",
      "metadata": {
        "colab": {
          "base_uri": "https://localhost:8080/"
        },
        "id": "9AYn6NERY50f",
        "outputId": "281e3436-5ecd-4c34-dfb7-e94a22a64227"
      },
      "source": [
        "model.summary()"
      ],
      "execution_count": null,
      "outputs": [
        {
          "output_type": "stream",
          "text": [
            "Model: \"sequential\"\n",
            "_________________________________________________________________\n",
            "Layer (type)                 Output Shape              Param #   \n",
            "=================================================================\n",
            "flatten (Flatten)            (None, 784)               0         \n",
            "_________________________________________________________________\n",
            "dense (Dense)                (None, 64)                50240     \n",
            "_________________________________________________________________\n",
            "dense_1 (Dense)              (None, 32)                2080      \n",
            "_________________________________________________________________\n",
            "dense_2 (Dense)              (None, 16)                528       \n",
            "_________________________________________________________________\n",
            "dense_3 (Dense)              (None, 10)                170       \n",
            "=================================================================\n",
            "Total params: 53,018\n",
            "Trainable params: 53,018\n",
            "Non-trainable params: 0\n",
            "_________________________________________________________________\n"
          ],
          "name": "stdout"
        }
      ]
    },
    {
      "cell_type": "code",
      "metadata": {
        "id": "2OohqcSKY8JX"
      },
      "source": [
        "model.compile(loss='categorical_crossentropy', \n",
        "              optimizer='adam',\n",
        "              metrics=['accuracy'])"
      ],
      "execution_count": null,
      "outputs": []
    },
    {
      "cell_type": "code",
      "metadata": {
        "colab": {
          "base_uri": "https://localhost:8080/"
        },
        "id": "RwFjUZztY-8W",
        "outputId": "1178c86c-568c-44e4-c7fe-c39758b1df4c"
      },
      "source": [
        "model.fit(x=X_train,y=y_train,batch_size=80,epochs=8,validation_data=(X_test,y_test))"
      ],
      "execution_count": null,
      "outputs": [
        {
          "output_type": "stream",
          "text": [
            "Epoch 1/8\n",
            "750/750 [==============================] - 3s 3ms/step - loss: 1.8516 - accuracy: 0.4348 - val_loss: 0.8444 - val_accuracy: 0.8067\n",
            "Epoch 2/8\n",
            "750/750 [==============================] - 2s 3ms/step - loss: 0.7452 - accuracy: 0.8251 - val_loss: 0.5141 - val_accuracy: 0.8706\n",
            "Epoch 3/8\n",
            "750/750 [==============================] - 2s 3ms/step - loss: 0.5066 - accuracy: 0.8635 - val_loss: 0.4169 - val_accuracy: 0.8824\n",
            "Epoch 4/8\n",
            "750/750 [==============================] - 2s 3ms/step - loss: 0.4232 - accuracy: 0.8823 - val_loss: 0.3978 - val_accuracy: 0.8860\n",
            "Epoch 5/8\n",
            "750/750 [==============================] - 2s 3ms/step - loss: 0.3873 - accuracy: 0.8867 - val_loss: 0.3843 - val_accuracy: 0.8859\n",
            "Epoch 6/8\n",
            "750/750 [==============================] - 2s 3ms/step - loss: 0.3599 - accuracy: 0.8946 - val_loss: 0.3298 - val_accuracy: 0.9058\n",
            "Epoch 7/8\n",
            "750/750 [==============================] - 2s 3ms/step - loss: 0.3275 - accuracy: 0.9034 - val_loss: 0.3352 - val_accuracy: 0.9007\n",
            "Epoch 8/8\n",
            "750/750 [==============================] - 2s 3ms/step - loss: 0.3215 - accuracy: 0.9042 - val_loss: 0.3298 - val_accuracy: 0.9033\n"
          ],
          "name": "stdout"
        },
        {
          "output_type": "execute_result",
          "data": {
            "text/plain": [
              "<tensorflow.python.keras.callbacks.History at 0x7f1c9480f590>"
            ]
          },
          "metadata": {
            "tags": []
          },
          "execution_count": 12
        }
      ]
    },
    {
      "cell_type": "code",
      "metadata": {
        "colab": {
          "base_uri": "https://localhost:8080/"
        },
        "id": "lWb1caoObZFK",
        "outputId": "5fceae38-964f-4a73-da7c-caa700201504"
      },
      "source": [
        "predictions = model.predict(X_test)\n",
        "print(predictions)"
      ],
      "execution_count": null,
      "outputs": [
        {
          "output_type": "stream",
          "text": [
            "[[0.22187066 0.07244921 0.32572895 ... 0.99784684 0.01415956 0.72390956]\n",
            " [0.24789128 0.06095707 0.93052346 ... 0.04525995 0.62968695 0.00609398]\n",
            " [0.10595876 0.9986354  0.00566867 ... 0.03774327 0.41403955 0.34753296]\n",
            " ...\n",
            " [0.12098241 0.00363362 0.2564447  ... 0.2351686  0.18396512 0.8218638 ]\n",
            " [0.16848436 0.44935873 0.00589234 ... 0.07299367 0.44548613 0.1501559 ]\n",
            " [0.36680743 0.2567235  0.19223222 ... 0.00823542 0.08118591 0.03056785]]\n"
          ],
          "name": "stdout"
        }
      ]
    },
    {
      "cell_type": "code",
      "metadata": {
        "colab": {
          "base_uri": "https://localhost:8080/"
        },
        "id": "El92PvDRbyJE",
        "outputId": "58bad197-d0a5-46be-9dbf-be007e703e8a"
      },
      "source": [
        "predictions = np.argmax(predictions, axis=1)\n",
        "print(predictions)"
      ],
      "execution_count": null,
      "outputs": [
        {
          "output_type": "stream",
          "text": [
            "[7 2 1 ... 4 5 6]\n"
          ],
          "name": "stdout"
        }
      ]
    },
    {
      "cell_type": "code",
      "metadata": {
        "colab": {
          "base_uri": "https://localhost:8080/"
        },
        "id": "VvcXk2ooeB79",
        "outputId": "1a1fe440-4cc6-4b38-e256-87bf250cf625"
      },
      "source": [
        "predictions[52]"
      ],
      "execution_count": null,
      "outputs": [
        {
          "output_type": "execute_result",
          "data": {
            "text/plain": [
              "5"
            ]
          },
          "metadata": {
            "tags": []
          },
          "execution_count": 17
        }
      ]
    },
    {
      "cell_type": "code",
      "metadata": {
        "colab": {
          "base_uri": "https://localhost:8080/",
          "height": 145
        },
        "id": "R1oeLhQkcEFe",
        "outputId": "051e0378-db0b-42db-c756-a1bfc1f17fcb"
      },
      "source": [
        "fig, axes = plt.subplots(ncols=10, sharex=False,\n",
        "\t\t\t sharey=True, figsize=(20, 4))\n",
        "for i in range(10):\n",
        "\taxes[i].set_title(predictions[i])\n",
        "\taxes[i].imshow(X_test[i], cmap='gray')\n",
        "\taxes[i].get_xaxis().set_visible(False)\n",
        "\taxes[i].get_yaxis().set_visible(False)\n",
        "plt.show()"
      ],
      "execution_count": null,
      "outputs": [
        {
          "output_type": "display_data",
          "data": {
            "image/png": "[encoded data removed]",
            "text/plain": [
              "<Figure size 1440x288 with 10 Axes>"
            ]
          },
          "metadata": {
            "tags": [],
            "needs_background": "light"
          }
        }
      ]
    }
  ]
}