{
  "nbformat": 4,
  "nbformat_minor": 0,
  "metadata": {
    "colab": {
      "name": "Simple ANN with MNIST dataset",
      "provenance": [],
      "collapsed_sections": [],
      "authorship_tag": "ABX9TyMLST8dXSZL3Yd6xk9uXyPS",
      "include_colab_link": true
    },
    "kernelspec": {
      "name": "python3",
      "display_name": "Python 3"
    },
    "language_info": {
      "name": "python"
    }
  },
  "cells": [
    {
      "cell_type": "markdown",
      "metadata": {
        "id": "view-in-github",
        "colab_type": "text"
      },
      "source": [
        "<a href=\"https://colab.research.google.com/github/MehmetCanYildirim/Projects/blob/main/Simple_ANN_with_MNIST_dataset.ipynb\" target=\"_parent\"><img src=\"https://colab.research.google.com/assets/colab-badge.svg\" alt=\"Open In Colab\"/></a>"
      ]
    },
    {
      "cell_type": "markdown",
      "metadata": {
        "id": "2GpARC1U4m5B"
      },
      "source": [
        "The MNIST dataset is an acronym that stands for the Modified National Institute of Standards and Technology dataset.\n",
        "\n",
        "It is a dataset of 70,000 small square 28×28 pixel grayscale images of handwritten single digits between 0 and 9.\n",
        "\n",
        "This project is the simple version of classification problem by using simple Artificial Neural Network (ANN). At the end of the project, the classification process will be for 10 class. "
      ]
    },
    {
      "cell_type": "code",
      "metadata": {
        "id": "YwMQKIDQQeoh"
      },
      "source": [
        "import tensorflow as tf\n",
        "import numpy as np\n",
        "import matplotlib.pyplot as plt\n",
        "from keras.layers import Dense, Flatten\n",
        "from keras.models import Sequential\n",
        "from tensorflow.keras.utils import to_categorical\n",
        "from keras.datasets import mnist\n"
      ],
      "execution_count": 18,
      "outputs": []
    },
    {
      "cell_type": "code",
      "metadata": {
        "id": "hcAsHdhlQdW5"
      },
      "source": [
        "(X_train, y_train), (X_test, y_test) = mnist.load_data()"
      ],
      "execution_count": 19,
      "outputs": []
    },
    {
      "cell_type": "code",
      "metadata": {
        "colab": {
          "base_uri": "https://localhost:8080/"
        },
        "id": "prfhXhpYQ626",
        "outputId": "96e9cb22-0dc7-4672-db73-4e769813e425"
      },
      "source": [
        "X_train.shape, y_train.shape, X_test.shape, y_test.shape"
      ],
      "execution_count": 20,
      "outputs": [
        {
          "output_type": "execute_result",
          "data": {
            "text/plain": [
              "((60000, 28, 28), (60000,), (10000, 28, 28), (10000,))"
            ]
          },
          "metadata": {},
          "execution_count": 20
        }
      ]
    },
    {
      "cell_type": "code",
      "metadata": {
        "colab": {
          "base_uri": "https://localhost:8080/",
          "height": 265
        },
        "id": "hFKBdO79RZp3",
        "outputId": "02f83307-63e7-4712-f162-eebb3f1d2d51"
      },
      "source": [
        "plt.imshow(np.array(X_train[36]))\n",
        "plt.show()"
      ],
      "execution_count": 21,
      "outputs": [
        {
          "output_type": "display_data",
          "data": {
            "image/png": "[encoded data removed]",
            "text/plain": [
              "<Figure size 432x288 with 1 Axes>"
            ]
          },
          "metadata": {
            "needs_background": "light"
          }
        }
      ]
    },
    {
      "cell_type": "code",
      "metadata": {
        "id": "oNbOMJHsSgpD"
      },
      "source": [
        "a = []\n",
        "b = []"
      ],
      "execution_count": 22,
      "outputs": []
    },
    {
      "cell_type": "code",
      "metadata": {
        "id": "fJPgSJpBS4Na"
      },
      "source": [
        "for j in range(len(y_train)):\n",
        "  a.append(to_categorical(y_train[j],num_classes=10))\n",
        "y_train = np.array(a)\n",
        "\n",
        "for i in range(len(y_test)):\n",
        "  b.append(to_categorical(y_test[i],num_classes=10))\n",
        "y_test = np.array(b)"
      ],
      "execution_count": 23,
      "outputs": []
    },
    {
      "cell_type": "code",
      "metadata": {
        "colab": {
          "base_uri": "https://localhost:8080/"
        },
        "id": "e9HFXJKMVRFB",
        "outputId": "9197f717-1959-43bf-84d7-a6b6b171b095"
      },
      "source": [
        "print(y_test.shape)\n",
        "print(y_train.shape)"
      ],
      "execution_count": 24,
      "outputs": [
        {
          "output_type": "stream",
          "text": [
            "(10000, 10)\n",
            "(60000, 10)\n"
          ],
          "name": "stdout"
        }
      ]
    },
    {
      "cell_type": "code",
      "metadata": {
        "id": "PhyiSgcPYxtR"
      },
      "source": [
        "model = Sequential()\n",
        "model.add(Flatten(input_shape=(28,28)))\n",
        "model.add(Dense(64, activation='sigmoid'))\n",
        "model.add(Dense(32, activation='sigmoid'))\n",
        "model.add(Dense(16, activation='sigmoid'))\n",
        "model.add(Dense(10, activation='sigmoid'))"
      ],
      "execution_count": 25,
      "outputs": []
    },
    {
      "cell_type": "code",
      "metadata": {
        "colab": {
          "base_uri": "https://localhost:8080/"
        },
        "id": "9AYn6NERY50f",
        "outputId": "f74e1003-81ff-4174-f025-a7a747bb82fa"
      },
      "source": [
        "model.summary()"
      ],
      "execution_count": 26,
      "outputs": [
        {
          "output_type": "stream",
          "text": [
            "Model: \"sequential\"\n",
            "_________________________________________________________________\n",
            "Layer (type)                 Output Shape              Param #   \n",
            "=================================================================\n",
            "flatten (Flatten)            (None, 784)               0         \n",
            "_________________________________________________________________\n",
            "dense (Dense)                (None, 64)                50240     \n",
            "_________________________________________________________________\n",
            "dense_1 (Dense)              (None, 32)                2080      \n",
            "_________________________________________________________________\n",
            "dense_2 (Dense)              (None, 16)                528       \n",
            "_________________________________________________________________\n",
            "dense_3 (Dense)              (None, 10)                170       \n",
            "=================================================================\n",
            "Total params: 53,018\n",
            "Trainable params: 53,018\n",
            "Non-trainable params: 0\n",
            "_________________________________________________________________\n"
          ],
          "name": "stdout"
        }
      ]
    },
    {
      "cell_type": "code",
      "metadata": {
        "id": "2OohqcSKY8JX"
      },
      "source": [
        "model.compile(loss='categorical_crossentropy', \n",
        "              optimizer='adam',\n",
        "              metrics=['accuracy'])"
      ],
      "execution_count": 27,
      "outputs": []
    },
    {
      "cell_type": "code",
      "metadata": {
        "colab": {
          "base_uri": "https://localhost:8080/"
        },
        "id": "RwFjUZztY-8W",
        "outputId": "86861d63-deb1-4647-91cc-5e897a414dba"
      },
      "source": [
        "model.fit(x=X_train,y=y_train,batch_size=80,epochs=8,validation_data=(X_test,y_test))"
      ],
      "execution_count": 28,
      "outputs": [
        {
          "output_type": "stream",
          "text": [
            "Epoch 1/8\n",
            "750/750 [==============================] - 4s 4ms/step - loss: 1.4024 - accuracy: 0.6579 - val_loss: 0.7812 - val_accuracy: 0.8223\n",
            "Epoch 2/8\n",
            "750/750 [==============================] - 2s 3ms/step - loss: 0.6270 - accuracy: 0.8500 - val_loss: 0.5046 - val_accuracy: 0.8670\n",
            "Epoch 3/8\n",
            "750/750 [==============================] - 2s 3ms/step - loss: 0.4709 - accuracy: 0.8730 - val_loss: 0.4104 - val_accuracy: 0.8883\n",
            "Epoch 4/8\n",
            "750/750 [==============================] - 3s 4ms/step - loss: 0.4165 - accuracy: 0.8831 - val_loss: 0.3857 - val_accuracy: 0.8884\n",
            "Epoch 5/8\n",
            "750/750 [==============================] - 2s 3ms/step - loss: 0.3772 - accuracy: 0.8927 - val_loss: 0.3613 - val_accuracy: 0.8947\n",
            "Epoch 6/8\n",
            "750/750 [==============================] - 2s 3ms/step - loss: 0.3713 - accuracy: 0.8924 - val_loss: 0.3496 - val_accuracy: 0.9009\n",
            "Epoch 7/8\n",
            "750/750 [==============================] - 2s 3ms/step - loss: 0.3415 - accuracy: 0.9014 - val_loss: 0.3180 - val_accuracy: 0.9078\n",
            "Epoch 8/8\n",
            "750/750 [==============================] - 2s 3ms/step - loss: 0.3137 - accuracy: 0.9105 - val_loss: 0.3163 - val_accuracy: 0.9045\n"
          ],
          "name": "stdout"
        },
        {
          "output_type": "execute_result",
          "data": {
            "text/plain": [
              "<keras.callbacks.History at 0x7fc647a768d0>"
            ]
          },
          "metadata": {},
          "execution_count": 28
        }
      ]
    },
    {
      "cell_type": "code",
      "metadata": {
        "colab": {
          "base_uri": "https://localhost:8080/"
        },
        "id": "lWb1caoObZFK",
        "outputId": "ccf50476-f1b5-48e6-90b5-44b0c1433984"
      },
      "source": [
        "predictions = model.predict(X_test)\n",
        "print(predictions)"
      ],
      "execution_count": 29,
      "outputs": [
        {
          "output_type": "stream",
          "text": [
            "[[0.40391427 0.4291336  0.6351874  ... 0.99924994 0.31190285 0.89429   ]\n",
            " [0.89136165 0.02467948 0.9886956  ... 0.31010583 0.64893174 0.05755085]\n",
            " [0.0786573  0.9992703  0.00434873 ... 0.68210334 0.62069845 0.8700739 ]\n",
            " ...\n",
            " [0.00242397 0.12056708 0.11710301 ... 0.21481979 0.690192   0.96917117]\n",
            " [0.24179587 0.4119783  0.0521625  ... 0.02186385 0.92943597 0.01284656]\n",
            " [0.7199696  0.00297439 0.7780814  ... 0.05580917 0.5682571  0.16371909]]\n"
          ],
          "name": "stdout"
        }
      ]
    },
    {
      "cell_type": "code",
      "metadata": {
        "colab": {
          "base_uri": "https://localhost:8080/"
        },
        "id": "El92PvDRbyJE",
        "outputId": "fd89cf71-5d49-440a-c3ad-be32698bf43b"
      },
      "source": [
        "predictions = np.argmax(predictions, axis=1)\n",
        "print(predictions)"
      ],
      "execution_count": 30,
      "outputs": [
        {
          "output_type": "stream",
          "text": [
            "[7 2 1 ... 4 5 6]\n"
          ],
          "name": "stdout"
        }
      ]
    },
    {
      "cell_type": "code",
      "metadata": {
        "colab": {
          "base_uri": "https://localhost:8080/"
        },
        "id": "VvcXk2ooeB79",
        "outputId": "741af008-8052-4dc5-c80d-88685b13f9d6"
      },
      "source": [
        "predictions[52]"
      ],
      "execution_count": 31,
      "outputs": [
        {
          "output_type": "execute_result",
          "data": {
            "text/plain": [
              "5"
            ]
          },
          "metadata": {},
          "execution_count": 31
        }
      ]
    },
    {
      "cell_type": "code",
      "metadata": {
        "colab": {
          "base_uri": "https://localhost:8080/",
          "height": 145
        },
        "id": "R1oeLhQkcEFe",
        "outputId": "cbeb8a6e-e9c4-4485-ca56-7aeea412f9f4"
      },
      "source": [
        "fig, axes = plt.subplots(ncols=10, sharex=False,\n",
        "\t\t\t sharey=True, figsize=(20, 4))\n",
        "for i in range(10):\n",
        "\taxes[i].set_title(predictions[i])\n",
        "\taxes[i].imshow(X_test[i], cmap='gray')\n",
        "\taxes[i].get_xaxis().set_visible(False)\n",
        "\taxes[i].get_yaxis().set_visible(False)\n",
        "plt.show()"
      ],
      "execution_count": 32,
      "outputs": [
        {
          "output_type": "display_data",
          "data": {
            "image/png": "[encoded data removed]",
            "text/plain": [
              "<Figure size 1440x288 with 10 Axes>"
            ]
          },
          "metadata": {
            "needs_background": "light"
          }
        }
      ]
    }
  ]
}